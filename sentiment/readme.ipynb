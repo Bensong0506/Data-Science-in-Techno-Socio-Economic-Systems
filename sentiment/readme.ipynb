{
 "cells": [
  {
   "cell_type": "code",
   "execution_count": 1,
   "metadata": {},
   "outputs": [],
   "source": [
    "import pandas as pd\n",
    "import os"
   ]
  },
  {
   "cell_type": "code",
   "execution_count": 2,
   "metadata": {},
   "outputs": [],
   "source": [
    "df = pd.read_pickle('tweets_with_labels.pkl')"
   ]
  },
  {
   "cell_type": "code",
   "execution_count": 4,
   "metadata": {},
   "outputs": [
    {
     "name": "stdout",
     "output_type": "stream",
     "text": [
      "0\n"
     ]
    }
   ],
   "source": [
    "# check if any sentiment label is missing\n",
    "print(df['sentiment_label'].isnull().sum() + df['sentiment_label'].isna().sum() + (df['sentiment_label'] == \"\").sum())"
   ]
  },
  {
   "cell_type": "markdown",
   "metadata": {},
   "source": [
    "## Calculate the labels\n",
    "note that the one on polybox is already with all the labels. No need to run these again"
   ]
  },
  {
   "cell_type": "code",
   "execution_count": 5,
   "metadata": {},
   "outputs": [
    {
     "data": {
      "text/html": [
       "<div>\n",
       "<style scoped>\n",
       "    .dataframe tbody tr th:only-of-type {\n",
       "        vertical-align: middle;\n",
       "    }\n",
       "\n",
       "    .dataframe tbody tr th {\n",
       "        vertical-align: top;\n",
       "    }\n",
       "\n",
       "    .dataframe thead th {\n",
       "        text-align: right;\n",
       "    }\n",
       "</style>\n",
       "<table border=\"1\" class=\"dataframe\">\n",
       "  <thead>\n",
       "    <tr style=\"text-align: right;\">\n",
       "      <th></th>\n",
       "      <th>user_name</th>\n",
       "      <th>user_location</th>\n",
       "      <th>user_description</th>\n",
       "      <th>user_created</th>\n",
       "      <th>user_followers</th>\n",
       "      <th>user_friends</th>\n",
       "      <th>user_favourites</th>\n",
       "      <th>user_verified</th>\n",
       "      <th>date</th>\n",
       "      <th>text</th>\n",
       "      <th>...</th>\n",
       "      <th>anticipation_prob</th>\n",
       "      <th>disgust_prob</th>\n",
       "      <th>fear_prob</th>\n",
       "      <th>joy_prob</th>\n",
       "      <th>love_prob</th>\n",
       "      <th>optimism_prob</th>\n",
       "      <th>pessimism_prob</th>\n",
       "      <th>sadness_prob</th>\n",
       "      <th>surprise_prob</th>\n",
       "      <th>trust_prob</th>\n",
       "    </tr>\n",
       "  </thead>\n",
       "  <tbody>\n",
       "    <tr>\n",
       "      <th>0</th>\n",
       "      <td>DeSota Wilson</td>\n",
       "      <td>Atlanta, GA</td>\n",
       "      <td>Biz Consultant, real estate, fintech, startups...</td>\n",
       "      <td>2009-04-26 20:05:09</td>\n",
       "      <td>8534.0</td>\n",
       "      <td>7605.0</td>\n",
       "      <td>4838.0</td>\n",
       "      <td>False</td>\n",
       "      <td>2021-02-10 23:59:04</td>\n",
       "      <td>Blue Ridge Bank shares halted by NYSE after #b...</td>\n",
       "      <td>...</td>\n",
       "      <td>0.320870</td>\n",
       "      <td>0.146106</td>\n",
       "      <td>0.133621</td>\n",
       "      <td>0.018759</td>\n",
       "      <td>0.002608</td>\n",
       "      <td>0.014057</td>\n",
       "      <td>0.064718</td>\n",
       "      <td>0.156217</td>\n",
       "      <td>0.087268</td>\n",
       "      <td>0.007338</td>\n",
       "    </tr>\n",
       "    <tr>\n",
       "      <th>1</th>\n",
       "      <td>CryptoND</td>\n",
       "      <td>NaN</td>\n",
       "      <td>😎 BITCOINLIVE is a Dutch platform aimed at inf...</td>\n",
       "      <td>2019-10-17 20:12:10</td>\n",
       "      <td>6769.0</td>\n",
       "      <td>1532.0</td>\n",
       "      <td>25483.0</td>\n",
       "      <td>False</td>\n",
       "      <td>2021-02-10 23:58:48</td>\n",
       "      <td>😎 Today, that's this #Thursday, we will do a \"...</td>\n",
       "      <td>...</td>\n",
       "      <td>0.576183</td>\n",
       "      <td>0.004451</td>\n",
       "      <td>0.043306</td>\n",
       "      <td>0.189257</td>\n",
       "      <td>0.002931</td>\n",
       "      <td>0.123739</td>\n",
       "      <td>0.003583</td>\n",
       "      <td>0.002220</td>\n",
       "      <td>0.027095</td>\n",
       "      <td>0.023936</td>\n",
       "    </tr>\n",
       "    <tr>\n",
       "      <th>2</th>\n",
       "      <td>Tdlmatias</td>\n",
       "      <td>London, England</td>\n",
       "      <td>IM Academy : The best #forex, #SelfEducation, ...</td>\n",
       "      <td>2014-11-10 10:50:37</td>\n",
       "      <td>128.0</td>\n",
       "      <td>332.0</td>\n",
       "      <td>924.0</td>\n",
       "      <td>False</td>\n",
       "      <td>2021-02-10 23:54:48</td>\n",
       "      <td>Guys evening, I have read this article about B...</td>\n",
       "      <td>...</td>\n",
       "      <td>0.754294</td>\n",
       "      <td>0.005080</td>\n",
       "      <td>0.005598</td>\n",
       "      <td>0.106353</td>\n",
       "      <td>0.002909</td>\n",
       "      <td>0.047832</td>\n",
       "      <td>0.003104</td>\n",
       "      <td>0.002245</td>\n",
       "      <td>0.043926</td>\n",
       "      <td>0.024446</td>\n",
       "    </tr>\n",
       "    <tr>\n",
       "      <th>3</th>\n",
       "      <td>Crypto is the future</td>\n",
       "      <td>NaN</td>\n",
       "      <td>I will post a lot of buying signals for BTC tr...</td>\n",
       "      <td>2019-09-28 16:48:12</td>\n",
       "      <td>625.0</td>\n",
       "      <td>129.0</td>\n",
       "      <td>14.0</td>\n",
       "      <td>False</td>\n",
       "      <td>2021-02-10 23:54:33</td>\n",
       "      <td>$BTC A big chance in a billion! Price: \\487264...</td>\n",
       "      <td>...</td>\n",
       "      <td>0.048652</td>\n",
       "      <td>0.000436</td>\n",
       "      <td>0.001184</td>\n",
       "      <td>0.626578</td>\n",
       "      <td>0.003508</td>\n",
       "      <td>0.301623</td>\n",
       "      <td>0.000384</td>\n",
       "      <td>0.000326</td>\n",
       "      <td>0.003269</td>\n",
       "      <td>0.013409</td>\n",
       "    </tr>\n",
       "    <tr>\n",
       "      <th>4</th>\n",
       "      <td>Alex Kirchmaier 🇦🇹🇸🇪 #FactsSuperspreader</td>\n",
       "      <td>Europa</td>\n",
       "      <td>Co-founder @RENJERJerky | Forbes 30Under30 | I...</td>\n",
       "      <td>2016-02-03 13:15:55</td>\n",
       "      <td>1249.0</td>\n",
       "      <td>1472.0</td>\n",
       "      <td>10482.0</td>\n",
       "      <td>False</td>\n",
       "      <td>2021-02-10 23:54:06</td>\n",
       "      <td>This network is secured by 9 508 nodes as of t...</td>\n",
       "      <td>...</td>\n",
       "      <td>0.283672</td>\n",
       "      <td>0.025936</td>\n",
       "      <td>0.013733</td>\n",
       "      <td>0.014121</td>\n",
       "      <td>0.001179</td>\n",
       "      <td>0.562736</td>\n",
       "      <td>0.024811</td>\n",
       "      <td>0.017232</td>\n",
       "      <td>0.005735</td>\n",
       "      <td>0.025889</td>\n",
       "    </tr>\n",
       "  </tbody>\n",
       "</table>\n",
       "<p>5 rows × 28 columns</p>\n",
       "</div>"
      ],
      "text/plain": [
       "                                  user_name    user_location  \\\n",
       "0                             DeSota Wilson      Atlanta, GA   \n",
       "1                                  CryptoND              NaN   \n",
       "2                                 Tdlmatias  London, England   \n",
       "3                      Crypto is the future              NaN   \n",
       "4  Alex Kirchmaier 🇦🇹🇸🇪 #FactsSuperspreader           Europa   \n",
       "\n",
       "                                    user_description         user_created  \\\n",
       "0  Biz Consultant, real estate, fintech, startups...  2009-04-26 20:05:09   \n",
       "1  😎 BITCOINLIVE is a Dutch platform aimed at inf...  2019-10-17 20:12:10   \n",
       "2  IM Academy : The best #forex, #SelfEducation, ...  2014-11-10 10:50:37   \n",
       "3  I will post a lot of buying signals for BTC tr...  2019-09-28 16:48:12   \n",
       "4  Co-founder @RENJERJerky | Forbes 30Under30 | I...  2016-02-03 13:15:55   \n",
       "\n",
       "   user_followers  user_friends  user_favourites  user_verified  \\\n",
       "0          8534.0        7605.0           4838.0          False   \n",
       "1          6769.0        1532.0          25483.0          False   \n",
       "2           128.0         332.0            924.0          False   \n",
       "3           625.0         129.0             14.0          False   \n",
       "4          1249.0        1472.0          10482.0          False   \n",
       "\n",
       "                  date                                               text  \\\n",
       "0  2021-02-10 23:59:04  Blue Ridge Bank shares halted by NYSE after #b...   \n",
       "1  2021-02-10 23:58:48  😎 Today, that's this #Thursday, we will do a \"...   \n",
       "2  2021-02-10 23:54:48  Guys evening, I have read this article about B...   \n",
       "3  2021-02-10 23:54:33  $BTC A big chance in a billion! Price: \\487264...   \n",
       "4  2021-02-10 23:54:06  This network is secured by 9 508 nodes as of t...   \n",
       "\n",
       "   ... anticipation_prob disgust_prob fear_prob  joy_prob  love_prob  \\\n",
       "0  ...          0.320870     0.146106  0.133621  0.018759   0.002608   \n",
       "1  ...          0.576183     0.004451  0.043306  0.189257   0.002931   \n",
       "2  ...          0.754294     0.005080  0.005598  0.106353   0.002909   \n",
       "3  ...          0.048652     0.000436  0.001184  0.626578   0.003508   \n",
       "4  ...          0.283672     0.025936  0.013733  0.014121   0.001179   \n",
       "\n",
       "   optimism_prob  pessimism_prob  sadness_prob  surprise_prob  trust_prob  \n",
       "0       0.014057        0.064718      0.156217       0.087268    0.007338  \n",
       "1       0.123739        0.003583      0.002220       0.027095    0.023936  \n",
       "2       0.047832        0.003104      0.002245       0.043926    0.024446  \n",
       "3       0.301623        0.000384      0.000326       0.003269    0.013409  \n",
       "4       0.562736        0.024811      0.017232       0.005735    0.025889  \n",
       "\n",
       "[5 rows x 28 columns]"
      ]
     },
     "execution_count": 5,
     "metadata": {},
     "output_type": "execute_result"
    }
   ],
   "source": [
    "# load tweets.pkl\n",
    "df = pd.read_pickle('tweets.pkl')\n",
    "df.head()"
   ]
  },
  {
   "cell_type": "code",
   "execution_count": 14,
   "metadata": {},
   "outputs": [
    {
     "name": "stdout",
     "output_type": "stream",
     "text": [
      "Smart money's on the market crashing by June '21. Crypto won't be immune. This isn't financial advice, I'm just goi… https://t.co/W55FXD0bvy\n",
      "['joy', 'anticipation', 'optimism', 'anger', 'sadness', 'disgust', 'others (4)']\n",
      "82667\n",
      "[2702054, 894842, 637153, 220550, 163301, 149433, 82667]\n"
     ]
    },
    {
     "data": {
      "image/png": "[encoded data removed]",
      "text/plain": [
       "<Figure size 640x480 with 1 Axes>"
      ]
     },
     "metadata": {},
     "output_type": "display_data"
    }
   ],
   "source": [
    "# emotion is one of 'anger', 'anticipation', 'disgust', 'fear', 'joy' 'love' 'optimism' 'pessimism' 'sadness' 'surprise' 'trust'\n",
    "# calculate label based on which probability is the highest\n",
    "# df[\"emotion_label\"] = df[['anger_prob', 'anticipation_prob', 'disgust_prob', 'fear_prob', 'joy_prob', 'love_prob', 'optimism_prob', 'pessimism_prob', 'sadness_prob', 'surprise_prob', 'trust_prob']].idxmax(axis=1).str.replace('_prob', '')\n",
    "# print(df['emotion_label'].value_counts())\n",
    "\n",
    "# show the one pessimism tweet\n",
    "\n",
    "print(df[df['emotion_label'] == 'pessimism']['text'].values[0])\n",
    "\n",
    "# graph a pie chart\n",
    "\n",
    "import matplotlib.pyplot as plt\n",
    "\n",
    "labels = df['emotion_label'].value_counts().index\n",
    "sizes = df['emotion_label'].value_counts().values\n",
    "\n",
    "# combine fear, surprise, love, pessimism\n",
    "\n",
    "labels = list(labels)[:-4] + ['others (4)']\n",
    "print(labels)\n",
    "others = sum(list(sizes)[-4:])\n",
    "print(others)\n",
    "sizes = list(sizes)[:-4] + [others]\n",
    "print(sizes)\n",
    "\n",
    "\n",
    "\n",
    "fig1, ax1 = plt.subplots()\n",
    "plt.title('Emotion Distribution')\n",
    "ax1.pie(sizes, labels=labels, autopct='%1.1f%%')\n",
    "plt.show()"
   ]
  },
  {
   "cell_type": "code",
   "execution_count": 5,
   "metadata": {},
   "outputs": [
    {
     "data": {
      "text/plain": [
       "['@AltcoinGordon $SHIFT TRAIN &amp; EARN CRYPTO @shift_token \\n🏋️ #SHIFT - $SHIFT\\n🏋️ #SHIFTFIT - #SHIFTNATION\\n🏋️ #SHIFTAPP - #GYM #CROSSFIT #FITNESS\\n🏋️ #LETSGETFIT #TRAINTOEARN \\n🏋️ #MOVE2EARN -\\xa0 #MOVETOEARN\\n🏋️ #ETH #BTC #Crypto #COMPETITION',\n",
       " 'If you download strike app \\nAnd sign up\\nWe both get a free $10\\nAny supporters?\\n\\nhttps://t.co/AnClYeVD4h\\n\\n#ethereum \\n#Bitcoin\\n#cryptocurrency\\n#CryptoCommunity',\n",
       " '@LUCKDOGE_TOKEN Nice project and congratulations to the team for their efforts and dedication and highly appreciated the visionary thought of the projector and it will go to moon. @IlhamMafian @arry300397 @Putraefri3 \\n\\n #LuckDoge #BNB #100xCoin #BabyDogeCoin #Bitcoin #BSC #ElonMusk #MISSDOGE',\n",
       " '#Bitcoin price in Canadian Dollar $BTC $XBT $BTCCAD \\nBTC Price Now : 77,524.12$ CAD \\nAvg Last Hour : 77,700.86$ \\nAvg 24 Hours : 78,608.10$ \\n24h Change : -2.58% \\n24h Low : 76,993.83$ \\n24h High : 81,860.99$  \\nMore information here https://t.co/AnKnaDahL6 https://t.co/4uy9mHvuye',\n",
       " \"Dyon found #bitcoin in a User vault at this location! Join me playing #coinhuntworld, It's awesome! https://t.co/dA8agN7lkW #cryptocurrency #122936 https://t.co/1oPkTFsIRI\",\n",
       " '@davidgokhshtein We are coming like a bomb with brand new news! @BscPitbull @gate_io $PIT #Bitcoin #btc https://t.co/t7fQwguhwn',\n",
       " '@CryptoHodlerId @PintuID @coinkit_ #btc #AplikasiPintu🚪\\nThanks',\n",
       " \"MstrGucci found #bitcoin in a Blue vault at this location! Join me playing #coinhuntworld, It's awesome! https://t.co/UUmDIVZAyA #cryptocurrency #207654 https://t.co/qzv1z1u33U\",\n",
       " '@DarkGHOSTcrypto @CluCoin @NanoINDC @NanoINDC #NanoDogecoin is the #King👑of the #BSC #Blockchain #DeFi #altcoins!\\n#Staking #rewards are 🔥#Bitcoin #Ethereum⧫#Cardano #Shibainu🐶#INDC🐶➕#earn #USDtether as #reflections!\\n\\n@Elonmusk🚀@JeffBezos🛒@Mcuban🏀@Cz_binance💯@Jack⚡\\nJoin our strong #family➡️tg:NanoDogecoin',\n",
       " '🌕 Biggest #Cryptos 1-Day Volume\\n\\n#BTC: $40,017.19 (−3.39%)\\n#ethereum: $3,024.67 (−3.25%)\\n$BCH: $339.3 (−1.82%)\\n#XRP: $0.7627 (+3.74%)\\n$LUNA: $81.63 (−8.39%)\\n\\n👉 Follow to bring #altcoin dashboard right to your feed. https://t.co/h1Vm0FPkdN',\n",
       " 'nice to see elon has stopped using #bitcoin as a tool to flex his god complex',\n",
       " 'Happpy Thanksgiving! Don’t forget to have some nice casual conversations about #bitcoin with the fam today! The thanksgiving effect is for real! #itsNotTooLate',\n",
       " \"🏝$CISLA is the hope for a flourishing year, they're making history by bringing us the finest year we've ever had❗️🌊\\n\\n✨Crypto Island Dao and new features are approaching! ✨\\n\\n@CryptoIslandInc #Cryptoisland #CISLA #BNB #Cisla1000x #CislaArmy #CryptoislandDAO #Binance #BTC https://t.co/nGMMv7Lz9j https://t.co/PyaM6eRbTk\",\n",
       " 'There is!🏆 I chose the lucky cell and won 4.8125 TRX! My Username: Otkooooo #betfurysuccess #bitcoin #staking',\n",
       " \"@kucoincom Do you want a project that do 40× after the presale? Awesome, Be a holder of Pandagirl token today 🥰\\n\\nThe only projects I've seen doing more 40x after the presage Superb! Why are you not a holder of pandacoin today? \\n\\n@pandagirltoken\\n#pandagirl\\n#nft\\n#nftart\\n#giveaway\\n#BTC\\n#ADA https://t.co/fThD1Lsel0\",\n",
       " 'Approximately every 10 minutes a new block is generated and added to the #Bitcoin timechain. The latest is at block height 763315.',\n",
       " '#Bitcoin   Watch Australia vs Pakistan Live In — Pak vs Aus Live Streaming Details-  ICC T20 World Cup 2021 Semi-Final 1- Pakistan vs Australia Semi-Final 1 2\\n\\nLink1: ➡️@crickett20live\\n \\nLink2: ➡️@crickett20live\\n \\nFree! \\nCricket Streams https://t.co/EPJR7piVDB',\n",
       " '1️⃣ #Bitcoin live: 19959.6572$ - Change: %-1.27 🔴 \\n\\n1️⃣ #Ethereum live: 1550.6651$ - Change: %-1.29 🔴 \\n\\nBonus as much as your investment (Coinbase) https://t.co/SbpSs4s0wh 🟢\\n    \\n🕑 13:00\\n\\n#btc #eth #coin #crypto #Etherium\\nid: b85fd1595b',\n",
       " \"@OfficialTravlad $EHX \\n@Eterna_Hybrid\\n is the FUTURE of crypto EVOLUTION     \\nStaking w/ 300%+ APY and 50% PROFIT SHARING!\\nDEX and CEX powered, FIRST of it's kind in the crypto space!\\n\\n#Eterna #cryptocurrency  #BNB #Ethereum #Bitcoin \\n@elonmusk\\n@1goonrich\\n@Crypto_Wizard01 https://t.co/VD7jeJ26Kj\",\n",
       " '#Bitcoin is high property.']"
      ]
     },
     "execution_count": 5,
     "metadata": {},
     "output_type": "execute_result"
    }
   ],
   "source": [
    "# show some joyful tweets\n",
    "df[df['emotion_label'] == 'joy'].sample(20)['text'].tolist()"
   ]
  },
  {
   "cell_type": "code",
   "execution_count": 11,
   "metadata": {},
   "outputs": [
    {
     "name": "stdout",
     "output_type": "stream",
     "text": [
      "irony_label\n",
      "False    4478052\n",
      "True      371948\n",
      "Name: count, dtype: int64\n"
     ]
    },
    {
     "data": {
      "image/png": "[encoded data removed]",
      "text/plain": [
       "<Figure size 640x480 with 1 Axes>"
      ]
     },
     "metadata": {},
     "output_type": "display_data"
    }
   ],
   "source": [
    "# irony is just represented as 'irony prob'\n",
    "# calculate label \n",
    "df[\"irony_label\"] = df['irony_prob'] > 0.5\n",
    "print(df['irony_label'].value_counts())\n",
    "\n",
    "# graph a pie chart\n",
    "labels = df['irony_label'].value_counts().index\n",
    "sizes = df['irony_label'].value_counts().values\n",
    "\n",
    "fig1, ax1 = plt.subplots()\n",
    "ax1.pie(sizes, labels=labels, autopct='%1.1f%%')\n",
    "plt.title('Irony Distribution') \n",
    "plt.show()"
   ]
  },
  {
   "cell_type": "code",
   "execution_count": 12,
   "metadata": {},
   "outputs": [
    {
     "name": "stdout",
     "output_type": "stream",
     "text": [
      "sentiment_label\n",
      "neutral     2608292\n",
      "positive    1859399\n",
      "negative     382309\n",
      "Name: count, dtype: int64\n"
     ]
    },
    {
     "data": {
      "image/png": "[encoded data removed]",
      "text/plain": [
       "<Figure size 640x480 with 1 Axes>"
      ]
     },
     "metadata": {},
     "output_type": "display_data"
    }
   ],
   "source": [
    "# sentiment is one of 'positive', 'negative', 'neutral'\n",
    "# calculate label based on which probability is the highest\n",
    "df[\"sentiment_label\"] = df[['positive_prob', 'negative_prob', 'neutral_prob']].idxmax(axis=1).str.replace('_prob', '')\n",
    "print(df['sentiment_label'].value_counts())\n",
    "\n",
    "# graph a pie chart\n",
    "labels = df['sentiment_label'].value_counts().index\n",
    "sizes = df['sentiment_label'].value_counts().values\n",
    "\n",
    "fig1, ax1 = plt.subplots()\n",
    "ax1.pie(sizes, labels=labels, autopct='%1.1f%%')\n",
    "plt.title('Sentiment Distribution')\n",
    "plt.show()"
   ]
  },
  {
   "cell_type": "markdown",
   "metadata": {},
   "source": [
    "### If you want to save the dataframe with the labels"
   ]
  },
  {
   "cell_type": "code",
   "execution_count": 30,
   "metadata": {},
   "outputs": [],
   "source": [
    "# save as new pickle with the labels added\n",
    "new_file_name = 'tweets_with_labels.pkl'\n",
    "if not os.path.exists(new_file_name):\n",
    "    df.to_pickle(new_file_name)\n",
    "else:\n",
    "    print('File already exists')"
   ]
  },
  {
   "cell_type": "markdown",
   "metadata": {},
   "source": [
    "## Examples "
   ]
  },
  {
   "cell_type": "code",
   "execution_count": 31,
   "metadata": {},
   "outputs": [
    {
     "data": {
      "text/plain": [
       "[\"@Jhamm_nd @AstroZeroNFT LFG! I'm there \\n\\n#ELONONE #ELON1 $EONE #ElonMusk #cryptocurrency #BTC #Ethereum #ETH #NFTCommunity #NFTProject #Crypto #P2E\",\n",
       " '@GFCtokenglobal @pinkecosystem Really very nice project\\n@KoushickSardar \\n@Akashraf14 \\n@RudroBiswasRB1 \\n@Tuhin252499 \\n@GFCtokenglobal \\n@pinkechaubey \\n#btc\\n#Eth\\n#BSC',\n",
       " 'And #Bitcoin $BTC will continue to be the king of crypto, with more push. https://t.co/QqFUtPa64I',\n",
       " \"the golden bullrun is here\\n#bitcoin up\\n$woo upper\\n@lunar_brain upperer\\n@bulmafi upperst\\n\\nwish my dick still went up, but can't have everything i guess\",\n",
       " '@FantomLiveS This is Awsome project.. everyone join us.. \\n\\n@Simanto__saha\\n@Rakibul78729782\\n@NazimUd36649399 \\n#Fantom #Fantomlive #FTM #FTL #Airdrop #Metaverse #Blockchain #Bitcoin']"
      ]
     },
     "execution_count": 31,
     "metadata": {},
     "output_type": "execute_result"
    }
   ],
   "source": [
    "# pick some examples of positive sentiment, show their text\n",
    "df[df['sentiment_label'] == 'positive'].sample(5)['text'].tolist()"
   ]
  },
  {
   "cell_type": "code",
   "execution_count": 32,
   "metadata": {},
   "outputs": [
    {
     "data": {
      "text/plain": [
       "[\"This new scam coin has a photo of Quentin Tarantino as one of their team members. Don't buy this bullshit. 😂😂😂👉 @BabyBITC_bsc\\n\\nhttps://t.co/t0nqWfqPAo 《 #SCAM #cryptocurrencies #cryptotrading #BTC\",\n",
       " '@CryptosR_Us Bruh, take a vacation enough #bitcoin already.',\n",
       " \"#BTC Weekly Chart Revised:  Finding support at very bottom of Ichimoku Cloud.  A drop from here would be more than a dump. It would be a CRASH !! The stability of the #Crypto market is on a razor's edge right now. Bearish pin bars on the weekly wicks. #Bitcoin at edge of a cliff https://t.co/K3Vt2CNWS5\",\n",
       " 'You are witnessing the first of many \"flippenings\" - infection of politics with cryptocurrencies.\\n\\nWhat these \"crypto\" dorks need to realize sooner than later is that there is only ONE truly hard and uncontrollable currency that will eat everything else alive. #Bitcoin https://t.co/tHPczDNiB6',\n",
       " 'It’s educational. But still painful at. #bitcoin @saylor https://t.co/4zRzC3jwIy']"
      ]
     },
     "execution_count": 32,
     "metadata": {},
     "output_type": "execute_result"
    }
   ],
   "source": [
    "# pick some examples of negative sentiment, show their text\n",
    "df[df['sentiment_label'] == 'negative'].sample(5)['text'].tolist()"
   ]
  },
  {
   "cell_type": "code",
   "execution_count": 16,
   "metadata": {},
   "outputs": [
    {
     "data": {
      "text/plain": [
       "['$ZEC TP2 cashed out here 60% of position still open\\n\\n#ZEC #BTC #ETH #Crypto #cryptocurrency #DayTrading #Trading #Futures #BNB #Binance #SOL https://t.co/5Sc78izV8c',\n",
       " 'With the continued growth in US debt and corresponding debt levels in other countries such as #Australia , expect inflation to continue to rise into the future and for more value to move to hard assets such as #Bitcoin.',\n",
       " '@ln_strike when EU? I need my paycheque automatically converted into #Bitcoin ASAP',\n",
       " \"https://t.co/ybELeYsIyQ \\n'Bloomberg Surveillance: Early Edition' Full\\n(11/10/22) \\n \\n#finance #business #money #investing #financialfreedom #investment #entrepreneur #trading #stockmarket #stocks #wealth #invest #bitcoin #success #forex... https://t.co/xaVe7zA03D\",\n",
       " '#Slippage #Crypto #CryptoNews #Cryptocurrency #Cryptocurrencies\\n#Bitcoin #ETH #BNB #TeamFollowBack #FollowBack #DEFI #NFTs\\n\\nTrader Who Called 2022 Crypto Collapse Predicts 248% Rally for Solana-Based Altcoin – Here’s His Target\\nhttps://t.co/SDCJZ4STZi https://t.co/UIgScUrefd',\n",
       " '#Bitcoin 12h MACD About to have a Bullish Cross! https://t.co/1zbFHb5GwU',\n",
       " '🔻🔻🔻 $2,738,800 BTCUSD SHORTED @$58,889.8 💻 on #Binance (0:22:04 UTC) #BTC #cryptocurrency',\n",
       " '#Bitcoin Long Term HODLers SOPR under 1. Same level as was after C19 crash in March 2020💡🧠\\nWhat does it mean?\\n\\nCheck my latest analysis on @cryptoquant_com 👇\\nhttps://t.co/r9fxys0pLP https://t.co/AUkipjCmnI',\n",
       " '#BinanceCoin price update: $BNB\\n\\n#BNB $276.6 USD\\n\\n#Bitcoin 0.01383 BTC\\n\\n#Ethereum 0.17736 ETH\\n\\n#altcoin #crypto #cryptocurrency\\n\\nFollow for recent BNB price updates',\n",
       " 'Sep 14, 2022 06:00AM #Bitcoin Price:\\nUSD 20470.39 | EUR 20498.75 | JPY 2938174.91']"
      ]
     },
     "execution_count": 16,
     "metadata": {},
     "output_type": "execute_result"
    }
   ],
   "source": [
    "# pick some examples of neutral sentiment, show their text\n",
    "df[df['sentiment_label'] == 'neutral'].sample(10)['text'].tolist()"
   ]
  },
  {
   "cell_type": "code",
   "execution_count": 17,
   "metadata": {},
   "outputs": [
    {
     "data": {
      "text/plain": [
       "['@theJagmeetSingh Go ahead with your Parliamentary Investigation right away!\\n\\nIt will show Corps have no earnings, are EXPOSED to monetary inflation and likely cause a global stock market crash...\\n\\n...thereby making me and my friend #Bitcoin  rich.🙂',\n",
       " 'Bitcoin to dollar  #Bitcoin https://t.co/3jql9X1a3Q',\n",
       " '@BuenoForMiami Life without parole for running an illegal website is cruel and unusual punishment. A crime against humanity is being committed in order to instill fear in others. \\n\\n#Bitcoin',\n",
       " 'New video from the one and only Altcoin Daily #bitcoin https://t.co/HGvcPM5MTC',\n",
       " 'who created this fucking #Bitcoin!  no human being can express his pride especially for such a success!  so it may be an organization to test world population and mass use ... who invented the internet?  ... make your own conclusion 😉 #cryptocurrency #ETH #btc',\n",
       " \"Talk about flip flopping….\\nCramer 'sold almost all' of his #bitcoin , fearing China has had it with crypto - CNBC https://t.co/fvAMY1eqEk\",\n",
       " '@saylor #Bitcoin brings happiness',\n",
       " 'ok,the time has come.  After more than 6 months seeing how the prices of cyber assets fall, looking at graphs for weeks and days.indicators point to a rise in prices for #Bitcoin Bitcoin and other currencies.  It is time to go shopping to maintain a minimum hold of 10 years #ETH https://t.co/rkS3u5MmFZ',\n",
       " 'Financial terrorism, printing trillions for the super rich. In 5 yrs all ur savings will be worth almost half!!  Economic genocide, if not orchestrated, a clear sign fed &amp; govs r holding us all hostage in a room running out of oxygen fast! #helpus #inflation #Bitcoin #USD #GBP https://t.co/1hEyqbWVyp',\n",
       " 'Doubling your #Bitcoin stack is always a great goal. At start it will be easy but soon it will force you to change your approach to life and evolve your methods.',\n",
       " 'Portugal Begins Approving Cryptocurrency Exchanges — Two Licensed So Far – Regulation Bitcoin News https://t.co/N39kMBCM41 #Bitcoin https://t.co/35PEJbnYAt',\n",
       " 'Training in blockchain from August 1 - The Hindu   https://t.co/wZ86zaB0IO   #Blockchain  #Bitcoin',\n",
       " 'Literally the greatest pic tweeted of all time! 😂😂 #Bitcoin https://t.co/bfPgqFt4fU',\n",
       " 'DocumentingBTC: @elonmusk #Bitcoin fixes this',\n",
       " '@michael_saylor #Bitcoin Twitter has never looked better. https://t.co/ubdtDcNXBk',\n",
       " \"4 reasons why Paul Tudor Jones' 5% Bitcoin exposure advice is difficult for major funds https://t.co/HJ7jfDGCjo #Bitcoin  #Cryptocurrency #FinTech #Digital #Currency\",\n",
       " 'BREAKING - Biden bans all imports of Russian oil and gas into the US. \\n\\nStocks down, precious metals up, #Bitcoin indecisive.\\n\\nFollow @tradeosiann they are great in #Crypto #BTC #ETH #trading z',\n",
       " '@TIAA @GMA The real problem (for all sexes and races) is not inequality but the fact that the purchasing power of a dollar is trending towards zero.  -#Bitcoin https://t.co/gdYCLHLwbE',\n",
       " '@el33th4xor @ericadamsfornyc Ahh the NYC “Bitcoin Center.” \\n\\nWasn’t that a sketchy skateboarding shop with a #Bitcoin ATM that never worked?',\n",
       " '@BitcoinQu0tes @JeffBooth In the long-run, possibly. #Bitcoin and its developers need to continue to innovate or other technologies will supplant it as a superior digital store-of-value. \\n$HEX #passiveincome']"
      ]
     },
     "execution_count": 17,
     "metadata": {},
     "output_type": "execute_result"
    }
   ],
   "source": [
    "# pick some examples of irony, show their text\n",
    "df[df['irony_label'] == True].sample(20)['text'].tolist()"
   ]
  },
  {
   "cell_type": "code",
   "execution_count": 18,
   "metadata": {},
   "outputs": [
    {
     "data": {
      "text/plain": [
       "['#Tesla May Accept #Bitcoin Once #Crypto #Mining Makes #Green Shift - via \\u2066@business\\u2069 #disruption #blockchain #fintech #finserv #VC #payment #banking #trading #altcoins #elonmusk #ETH #Doge 👇 https://t.co/NkxSBNrveI',\n",
       " '1 Bitcoin ( #BTC )\\nDollar: 19,320.18$ \\n\\n1 Bitcoin Cash ( #BCH )\\nDollar: 1,06.08$ \\n\\n1 Ethereum ( #ETH )\\nDollar: 1,071.91$ \\n\\n1 Ripple ( #XRP )\\nDollar: 0.31553$ \\n\\nDate: 2 Jul 2022 22:14\\n\\n#Bitcoin #Ethereum #cryptocurrency #crypto #altcoin #Blockchain #Ripple  #العملات_الرقمية',\n",
       " '#BTC 21M - Is going up forevever.....Nooo!📉📉😭😭\\n\\nBuy #BNBTC early! Buy low! No downside as #BTC!\\n#BNBTC #BTC #Eth  #BSC #BNB #Ada #Matic #Terra #CRO #Ltc #Ftt #Doge #Babydoge #Feg #Shiba #Sol #Floki #Raca #Dot #Avax #Xrp #Link #Algo #Ftm #Saylor #Michaelsaylor https://t.co/dKwlmWRP6Y',\n",
       " 'Champ-Bo #32 is now listed \\n.\\nLink in bio 🔥\\n.\\n\\n#nfts #nft #nftart #nftcommunity #nftcollector #nftartist #cryptoart #digitalart #art #crypto #ethereum #blockchain #opensea #nftcollectors #bitcoin #cryptocurrency #nftdrop #cryptoartist #nftcollectibles #openseanft #nftartists #et https://t.co/v9hhqGUuSv',\n",
       " 'Beware of the accounts always telling you Moon and constantly bullish…. Their intentions are not pure (looking for Engagement) or just ignorant to market conditions…The bears are the ones who are more truthful… Bear content doesn’t get the likes . $BTC #BITCOIN #BTC #XRP $XRP',\n",
       " '@AirdropStario This project is very good and this projector has a lot of attractions, so hopefully the project will be better in the future and the cryptocurrency will be the best.\\n@Abir0459 \\n@jannat_zubair29 \\n@faisalislam \\n@Rafi0459 \\n@shihab\\n#cryptocurrency #Bitcoin #Airdrop #BSC #Bitcoin #ETH',\n",
       " '@jf_nft Go #twitter community Go help #Ukraine people with #bitcoin\\xa0 37W7SgZkyYbfJxYjb3yvTDSiDM4w2Lk78f\\nIf you want help all #ukraine people \\nThank you , god watch over you🙏🏽🔥🔥🔥 #Bitcoin\\xa0 \\n\\n#Bitcoin\\xa0 : 37W7SgZkyYbfJxYjb3yvTDSiDM4w2Lk78f',\n",
       " 'All of our tokens pass a rigorous evaluation process to make sure your token gets to deliver the best while getting the attention.\\nhttps://t.co/hrThudca0B\\n\\n#Rbxs #BNB #lunarcruch #crypto #staking #TheBatman #DeFi #Binance #ETH #Bitcoin #BSC #BTC #1000xgem #RBXS_king #RBXS_token https://t.co/YFlXNPUaQq',\n",
       " '@rutradebtc @SaitokiInu Is next to melt faces with their innovative NFT companions and top tier p2e gaming ecosystem #saitoki #p2e #play2earn #playtoearn #ethereum #btc @JakeGagain @AdamEShelton @Yourpop8 @Z_Humphries @elonmusk @elliotrades @MKid12276995 #SaitokiArmy #altseason #altcoin',\n",
       " '@soladefy What a great project.\\nHip in guys.\\n\\n@BolumJohnson \\n@AriTheDon \\n@fdville2000 \\n\\n#SolaDefy #Solana #SolanaAirdrop #Airdrops #IDO #Launchpad $SLD $SOLD\\n#Blockchain #SolanaProject #tothemoon #EAP #Binance #SOL #BTC #ETH #Airdropalert\\n#BlackFriday',\n",
       " 'The best thing about Crypto Pirates goal is that they want to create not only another project for NFT holders, but also an entertaining game for everyone, including those who are not willing to spend.#SeasonalTokens #CryptoMining #CyclicalInvesting #BTC\\nhttps://t.co/R3DWizYPTY',\n",
       " '🇹🇭 Thailand Bitcoin Exchange 🇹🇭\\n💰Bid–Ask Spread Ranking💰\\n 1⃣Bitkub : 596 บาท\\n 2⃣SatangPro : 5,053 บาท\\n 3⃣Upbit : 6,840 บาท\\n 4⃣Bitazza : 8,195 บาท\\n#Bitcoin #BTC #บิทคอยน์ #เงินดิจิทัล\\nhttps://t.co/OcQBFaSL64',\n",
       " '@ashwsbreal #DroverInu - A #METAVERSE DEFLECTIONARY UTILITY TOKEN\\n✅ KYC &amp; Audited\\n✅ 10 billion Supply \\n✅ 5% as Reflection \\n✅ 5%  To Liquidity \\n✍️ #DroverToken\\n✅Farm \\n✍️ #NFT \\n✍️#Metaverse #Game\\n    #DroverToken  \\n\\n#DroverInu #BNB #BTC #BSC #BabyDogeCoin Friends https://t.co/u0mHDm0Aqi.',\n",
       " 'Who’s going to step up to the plate and build onlyfans on #Bitcoin Lightning? https://t.co/VLjoijmyWU',\n",
       " 'If only someone can purchase the rights and turn this picture into an #NFT. It will be worth a fortune, soon! This is historic! \\n#Bitcoin #BitcoinATM #Singapore https://t.co/JV8xDLNdfX',\n",
       " 'Tesla Dogecoin ACCEPTANCE CONFIRMED ⚠️\\n#crypto #dogecoin #bitcoin\\n https://t.co/ZzYBXWwlrD https://t.co/YKuyjKHajm',\n",
       " \"RazzamaCass found #bitcoin in a Blue vault at this location! Join me playing #coinhuntworld, It's awesome! https://t.co/swC2wPWTPa #cryptocurrency #3230201 https://t.co/NDuPDg3BjE\",\n",
       " \"Official ESHOP Airdrop. If You Missed Meme Token Rally, Don't Miss ESHOP.  Join Now: https://t.co/fCXE1XPlg8   Join our Telegram: https://t.co/IPYxR4TfC0   @EShop_Token @elonmusk #cryptocurrency #BSC #Bitcoin #Ethereum #ETH #Airdrop #bounty #ESHOP  #Airdrops\",\n",
       " '@BTC_Archive How many #btc is that?',\n",
       " 'BTCTN: Analysts say most of the technical bottom indicators used to predict #bitcoin prices have failed to forecast whether or not the bottom is in. https://t.co/w9sgYZEjVL']"
      ]
     },
     "execution_count": 18,
     "metadata": {},
     "output_type": "execute_result"
    }
   ],
   "source": [
    "\n",
    "# pick some examples of irony, show their text\n",
    "df[df['irony_label'] == False].sample(20)['text'].tolist()"
   ]
  },
  {
   "cell_type": "code",
   "execution_count": 35,
   "metadata": {},
   "outputs": [
    {
     "data": {
      "text/plain": [
       "[\"Your Condition is not even as critical as those I've Handled\\n\\nInbox me, If you still want your Account Back!!!\\n\\nI'm available 24/7 for all Hacking Services\\n#Hack #coinbase #Hacking #bitcoin   #bnb  #privacy\",\n",
       " \"@cz_binance #Bitcoin  It should definitely be banned. I don't believe in bitcoin anymore, people's homes were destroyed for the sake of a demon.\",\n",
       " '$BTC #bitcoin seems like a currency that can easily be manipulated by the richest.',\n",
       " 'The biggest pump &amp; dump ponzi scheme in modern day history.The peasants never learn. #Bitcoin #BTC$BTC',\n",
       " \"Don't believe this shit. They just want enough people to buy it in the hopes it pushes up the price. #Bitcoin #BTC #Cryptocurency https://t.co/55AlJLb5Kh\"]"
      ]
     },
     "execution_count": 35,
     "metadata": {},
     "output_type": "execute_result"
    }
   ],
   "source": [
    "# pick some examples of anger, show their text\n",
    "df[df['emotion_label'] == 'anger'].sample(5)['text'].tolist()"
   ]
  },
  {
   "cell_type": "code",
   "execution_count": 36,
   "metadata": {},
   "outputs": [
    {
     "data": {
      "text/plain": [
       "['Or just DCA #Bitcoin and ignore the rest of the noise. https://t.co/NiYY8XoLQP',\n",
       " 'Where do you think we are in the #Bitcoin market cycle? https://t.co/CZ3lCHYQ9g',\n",
       " '🔥Read to the end👇👇🔥🔥 \\nAre you looking for a reliable broker. Check this out! To trade volatility indices VIX https://t.co/n1Ud7gZzcF \\n👇 1. Click the link☝️, supply your email. Confirm email in your inbox. dm for help #Ethereum #NFTs #Bitcoin #Forex #Binance #btc #deriv (10)',\n",
       " '#Bitcoin Last Price $19345 #BTC 🚀\\nDaily Indicators:\\n•Pivot Fibonacci:\\n -Support 1: 18338\\n -S2: 17237\\n -S3: 15455\\n -Middle: 20119\\n -Resistance 1: 21901\\n\\n#Ethereum Last Price $1315 #ETH\\n•Pivot:\\n -S1: 1227\\n -S2: 1093\\n -S3: 874\\n -M: 1446\\n -R1: 1664\\n\\n#Crypto #DeFi\\n(3/6)\\n284252',\n",
       " '[NEW] Father of the Internet Says Web 3.0 Doesn’t Need Blockchain Technology + https://t.co/FhTX76OsVZ #bitcoin #btc #cryptocurrency #crypto #blockchain']"
      ]
     },
     "execution_count": 36,
     "metadata": {},
     "output_type": "execute_result"
    }
   ],
   "source": [
    "# pick some examples of anticipation, show their text\n",
    "df[df['emotion_label'] == 'anticipation'].sample(5)['text'].tolist()"
   ]
  },
  {
   "cell_type": "code",
   "execution_count": 37,
   "metadata": {},
   "outputs": [
    {
     "data": {
      "text/plain": [
       "['[1D] #Bitcoin market is strongly trending up current momentum suggests the market is overbought. #options #markets #best visit: https://t.co/yuSljvM9Fq for more!',\n",
       " '@NFTDigiart @MMFcrypto @MMFcrypto The Madness Continues. Check This Out 👇💯❌️💎🔥🚀👇\\nhttps://t.co/d4RuXaLKhi\\n#MMFinance #mmf #100xgem #DeFi #passiveincome #Cronos #CRO #Bitcoin #ETH #MUSD #burrow $BURROW $MUSD #CRYPTOFixThingz #CryptoIsOurFuture https://t.co/RTvbB5BCNa https://t.co/uxlxCARU5A',\n",
       " 'This will help you not to think about #BTC right now.\\n\\n$EGLD $ONE $BTC $MEX $RIDE $LINA $FUSE https://t.co/sJk9P8oGzz',\n",
       " \"#bitcoin is going to infinity and there's nothing you or I or anyone can do about it.\",\n",
       " '@ReforgedSwordo Nope, bc #Bitcoin was the first to solve the Byzantin General Problem.']"
      ]
     },
     "execution_count": 37,
     "metadata": {},
     "output_type": "execute_result"
    }
   ],
   "source": [
    "# pick some examples of optimism, show their text\n",
    "df[df['emotion_label'] == 'optimism'].sample(5)['text'].tolist()"
   ]
  }
 ],
 "metadata": {
  "kernelspec": {
   "display_name": "bitcoinsent",
   "language": "python",
   "name": "python3"
  },
  "language_info": {
   "codemirror_mode": {
    "name": "ipython",
    "version": 3
   },
   "file_extension": ".py",
   "mimetype": "text/x-python",
   "name": "python",
   "nbconvert_exporter": "python",
   "pygments_lexer": "ipython3",
   "version": "3.11.8"
  }
 },
 "nbformat": 4,
 "nbformat_minor": 2
}
